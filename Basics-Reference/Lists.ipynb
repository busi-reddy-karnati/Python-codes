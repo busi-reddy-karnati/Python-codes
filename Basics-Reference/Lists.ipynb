{
 "cells": [
  {
   "cell_type": "markdown",
   "metadata": {
    "collapsed": true,
    "pycharm": {
     "name": "#%% md\n"
    }
   },
   "source": [
    "Lists are collections of variables\n",
    "They are changeable, ordered, allow duplicates.\n",
    "List is specified using []\n"
   ]
  },
  {
   "cell_type": "code",
   "execution_count": 2,
   "outputs": [
    {
     "name": "stdout",
     "output_type": "stream",
     "text": [
      "Length of list of fruits: 3\n",
      "0 indexed fruit: apple\n"
     ]
    }
   ],
   "source": [
    "list_of_fruits = [\"apple\",\"orange\",\"grapes\"]\n",
    "print(\"Length of list of fruits: \"+str(len(list_of_fruits)))\n",
    "print(\"0 indexed fruit: \"+list_of_fruits[0])"
   ],
   "metadata": {
    "collapsed": false,
    "pycharm": {
     "name": "#%%\n"
    }
   }
  },
  {
   "cell_type": "code",
   "execution_count": 5,
   "outputs": [
    {
     "name": "stdout",
     "output_type": "stream",
     "text": [
      "Type for 5 <class 'int'>\n",
      "Type for apple <class 'str'>\n",
      "Type for 3.3 <class 'float'>\n"
     ]
    }
   ],
   "source": [
    "randomList = [1, \"apple\", 3.3]\n",
    "print(\"Type for 5 \"+str(type(randomList[0])))\n",
    "print(\"Type for apple \"+str(type(randomList[1])))\n",
    "print(\"Type for 3.3 \"+str(type(randomList[2])))"
   ],
   "metadata": {
    "collapsed": false,
    "pycharm": {
     "name": "#%%\n"
    }
   }
  },
  {
   "cell_type": "markdown",
   "source": [
    "List can also be initialized using the list constructor also\n",
    "my_list = list(\"apple\",\"banana\");"
   ],
   "metadata": {
    "collapsed": false,
    "pycharm": {
     "name": "#%% md\n"
    }
   }
  },
  {
   "cell_type": "code",
   "execution_count": 9,
   "outputs": [
    {
     "name": "stdout",
     "output_type": "stream",
     "text": [
      "<class 'list'>\n"
     ]
    }
   ],
   "source": [
    "# Note the double parentheses.\n",
    "my_list = list((\"apple\",\"banana\"));\n",
    "print(type(my_list))"
   ],
   "metadata": {
    "collapsed": false,
    "pycharm": {
     "name": "#%%\n"
    }
   }
  },
  {
   "cell_type": "markdown",
   "source": [
    "We can also change the list items\n",
    "a[1] = something will change the item that is present in the list at index 1\n"
   ],
   "metadata": {
    "collapsed": false,
    "pycharm": {
     "name": "#%% md\n"
    }
   }
  },
  {
   "cell_type": "code",
   "execution_count": 14,
   "outputs": [
    {
     "name": "stdout",
     "output_type": "stream",
     "text": [
      "[1, 2, 9, 4, 5]\n",
      "[1, 10, 4, 5]\n"
     ]
    }
   ],
   "source": [
    "list = [1,2,3,4,5]\n",
    "list[2] = 9;\n",
    "print(list)\n",
    "\n",
    "# What this does is, it removes all the entries that is stated in the subarray\n",
    "# and assigns the new array. Note the list that is given\n",
    "list[1:3]=[10]\n",
    "print(list)\n",
    "\n"
   ],
   "metadata": {
    "collapsed": false,
    "pycharm": {
     "name": "#%%\n"
    }
   }
  },
  {
   "cell_type": "markdown",
   "source": [
    "Append adds one item to the end of the list\n",
    "extends adds all the elements of argument list.\n",
    "So argument for append is an item and extend is list\n",
    "insert can also be done for a certain index\n",
    "Extend takes any collections as an argument not only list"
   ],
   "metadata": {
    "collapsed": false,
    "pycharm": {
     "name": "#%% md\n"
    }
   }
  },
  {
   "cell_type": "code",
   "execution_count": 24,
   "outputs": [
    {
     "name": "stdout",
     "output_type": "stream",
     "text": [
      "List1: [1, 2, 3, 4, 5]\n",
      "List1: [1, 2, 3, 4, 5, 6, 7, 8]\n",
      "List1: [0, 1, 2, 3, 4, 5, 6, 7, 8]\n",
      "List1: [0, 1, 2, 3, 4, 5, 6, 7, 8, 'apple', 'kiwi']\n"
     ]
    }
   ],
   "source": [
    "list1=[1,2,3,4]\n",
    "list1.append(5)\n",
    "print(\"List1: \"+str(list1))\n",
    "list1.extend([6,7,8])\n",
    "print(\"List1: \"+str(list1))\n",
    "list1.insert(0,0)\n",
    "print(\"List1: \"+str(list1))\n",
    "\n",
    "tuple = (\"apple\",\"kiwi\")\n",
    "list1.extend(tuple)\n",
    "print(\"List1: \"+str(list1))"
   ],
   "metadata": {
    "collapsed": false,
    "pycharm": {
     "name": "#%%\n"
    }
   }
  },
  {
   "cell_type": "markdown",
   "source": [
    "Removing can also be done.\n",
    "remove a specific item by list.remove(item).\n",
    "removing a specific index is by list.pop(2).\n",
    "pop usually removes the last indexed element.\n",
    "We can also use del to remove certain indexed element like del a[0]\n",
    "Clear the list using list.clear()"
   ],
   "metadata": {
    "collapsed": false,
    "pycharm": {
     "name": "#%% md\n"
    }
   }
  },
  {
   "cell_type": "code",
   "execution_count": 25,
   "outputs": [
    {
     "name": "stdout",
     "output_type": "stream",
     "text": [
      "[1, 2, 3, 4, 5, 6, 7, 8, 'apple', 'kiwi']\n",
      "[1, 2, 3, 4, 5, 6, 7, 8, 'apple']\n",
      "[1, 2, 4, 5, 6, 7, 8, 'apple']\n",
      "[1, 2, 5, 6, 7, 8, 'apple']\n"
     ]
    }
   ],
   "source": [
    "list1.remove(0)\n",
    "print(list1)\n",
    "list1.pop()\n",
    "print(list1)\n",
    "list1.pop(2)\n",
    "print(list1)\n",
    "del list1[2]\n",
    "print(list1)"
   ],
   "metadata": {
    "collapsed": false,
    "pycharm": {
     "name": "#%%\n"
    }
   }
  },
  {
   "cell_type": "code",
   "execution_count": 27,
   "outputs": [
    {
     "data": {
      "text/plain": "[1, 4, 9, 16, 25, 25, 49]"
     },
     "execution_count": 27,
     "metadata": {},
     "output_type": "execute_result"
    }
   ],
   "source": [
    "list1=[1,2,3,4,5,5,7]\n",
    "[i*i for i in list1]"
   ],
   "metadata": {
    "collapsed": false,
    "pycharm": {
     "name": "#%%\n"
    }
   }
  },
  {
   "cell_type": "markdown",
   "source": [
    "We can also have [ item for item in list if someCondition]\n"
   ],
   "metadata": {
    "collapsed": false,
    "pycharm": {
     "name": "#%% md\n"
    }
   }
  },
  {
   "cell_type": "code",
   "execution_count": 38,
   "outputs": [
    {
     "name": "stdout",
     "output_type": "stream",
     "text": [
      "[1, 2, 3, 4, 5, 6, 7, 8, 9, 10, 11, 12, 13, 14, 15, 16, 17, 18, 19, 20, 21, 22, 23, 24, 25, 26, 27, 28, 29, 30, 31, 32, 33, 34, 35, 36, 37, 38, 39, 40, 41, 42, 43, 44, 45, 46, 47, 48, 49, 50, 51, 52, 53, 54, 55, 56, 57, 58, 59, 60, 61, 62, 63, 64, 65, 66, 67, 68, 69, 70, 71, 72, 73, 74, 75, 76, 77, 78, 79, 80, 81, 82, 83, 84, 85, 86, 87, 88, 89, 90, 91, 92, 93, 94, 95, 96, 97, 98, 99, 100]\n",
      "[2, 3, 5, 7, 11, 13, 17, 19, 23, 29, 31, 37, 41, 43, 47, 53, 59, 61, 67, 71, 73, 79, 83, 89, 97]\n"
     ]
    }
   ],
   "source": [
    "import math\n",
    "def isPrime(n):\n",
    "    if n==1:\n",
    "        return False;\n",
    "    if n==2:\n",
    "        return True\n",
    "    for i in range(2,int(math.sqrt(n))+1):\n",
    "        if n%i==0:\n",
    "            return False;\n",
    "    return True;\n",
    "\n",
    "listOf100 = [ i for i in range(1,101)]\n",
    "print(listOf100)\n",
    "listOfPrimes = [ i for i in listOf100 if isPrime(i)]\n",
    "print(listOfPrimes)\n"
   ],
   "metadata": {
    "collapsed": false,
    "pycharm": {
     "name": "#%%\n"
    }
   }
  },
  {
   "cell_type": "markdown",
   "source": [
    "Sort is a useful function when working with lists\n",
    "list.sort sorts list and when we give list.sort(Reverse=True), it sorts in descending order"
   ],
   "metadata": {
    "collapsed": false
   }
  },
  {
   "cell_type": "code",
   "execution_count": 39,
   "outputs": [
    {
     "name": "stdout",
     "output_type": "stream",
     "text": [
      "[0, 1, 1, 1, 3, 4, 4]\n"
     ]
    }
   ],
   "source": [
    "list = [4,1,3,4,1,0,1]\n",
    "list.sort()\n",
    "print(list)"
   ],
   "metadata": {
    "collapsed": false,
    "pycharm": {
     "name": "#%%\n"
    }
   }
  },
  {
   "cell_type": "code",
   "execution_count": null,
   "outputs": [],
   "source": [],
   "metadata": {
    "collapsed": false,
    "pycharm": {
     "name": "#%%\n"
    }
   }
  }
 ],
 "metadata": {
  "kernelspec": {
   "display_name": "Python 3",
   "language": "python",
   "name": "python3"
  },
  "language_info": {
   "codemirror_mode": {
    "name": "ipython",
    "version": 2
   },
   "file_extension": ".py",
   "mimetype": "text/x-python",
   "name": "python",
   "nbconvert_exporter": "python",
   "pygments_lexer": "ipython2",
   "version": "2.7.6"
  }
 },
 "nbformat": 4,
 "nbformat_minor": 0
}