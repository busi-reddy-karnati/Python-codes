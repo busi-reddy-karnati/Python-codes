{
 "cells": [
  {
   "cell_type": "code",
   "execution_count": 5,
   "metadata": {
    "collapsed": true
   },
   "outputs": [],
   "source": [
    "class Person:\n",
    "\n",
    "    # self can be replaced with anything, as long as t is the first variable\n",
    "    def __init__(self,name,age):\n",
    "        self.age = age\n",
    "        self.name = name\n",
    "    def getAge(self):\n",
    "        return self.age\n",
    "    def getName(self):\n",
    "        return self.name\n",
    "    def setName(self,name):\n",
    "        self.name = name\n",
    "    def setAge(self, age):\n",
    "        self.age = age\n",
    "\n",
    "    def isMinor(self):\n",
    "        return self.age < 18"
   ]
  },
  {
   "cell_type": "code",
   "execution_count": 14,
   "outputs": [
    {
     "name": "stdout",
     "output_type": "stream",
     "text": [
      "22\n",
      "rahul\n"
     ]
    }
   ],
   "source": [
    "person1 = Person(\"rahul\",22)\n",
    "print(person1.age)\n",
    "print(person1.name)\n",
    "\n",
    "del person1.age"
   ],
   "metadata": {
    "collapsed": false,
    "pycharm": {
     "name": "#%%\n"
    }
   }
  },
  {
   "cell_type": "code",
   "execution_count": 15,
   "outputs": [
    {
     "data": {
      "text/plain": "23"
     },
     "execution_count": 15,
     "metadata": {},
     "output_type": "execute_result"
    }
   ],
   "source": [
    "person1.setAge(23)\n",
    "person1.age"
   ],
   "metadata": {
    "collapsed": false,
    "pycharm": {
     "name": "#%%\n"
    }
   }
  },
  {
   "cell_type": "code",
   "execution_count": 19,
   "outputs": [],
   "source": [
    "# Inheritance in Python takes the parent class as\n",
    "class Student(Person):\n",
    "    def __init__(self,name,age,grade):\n",
    "        self.grade = grade\n",
    "        Person.__init__(self,name,age)"
   ],
   "metadata": {
    "collapsed": false,
    "pycharm": {
     "name": "#%%\n"
    }
   }
  },
  {
   "cell_type": "code",
   "execution_count": 22,
   "outputs": [
    {
     "name": "stdout",
     "output_type": "stream",
     "text": [
      "22\n"
     ]
    },
    {
     "data": {
      "text/plain": "100"
     },
     "execution_count": 22,
     "metadata": {},
     "output_type": "execute_result"
    }
   ],
   "source": [
    "student1 = Student(\"ganesh\",22,100)\n",
    "print(student1.age)\n",
    "student1.grade"
   ],
   "metadata": {
    "collapsed": false,
    "pycharm": {
     "name": "#%%\n"
    }
   }
  },
  {
   "cell_type": "code",
   "execution_count": null,
   "outputs": [],
   "source": [],
   "metadata": {
    "collapsed": false,
    "pycharm": {
     "name": "#%%\n"
    }
   }
  }
 ],
 "metadata": {
  "kernelspec": {
   "display_name": "Python 3",
   "language": "python",
   "name": "python3"
  },
  "language_info": {
   "codemirror_mode": {
    "name": "ipython",
    "version": 2
   },
   "file_extension": ".py",
   "mimetype": "text/x-python",
   "name": "python",
   "nbconvert_exporter": "python",
   "pygments_lexer": "ipython2",
   "version": "2.7.6"
  }
 },
 "nbformat": 4,
 "nbformat_minor": 0
}